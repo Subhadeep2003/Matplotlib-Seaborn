{
 "cells": [
  {
   "cell_type": "code",
   "execution_count": 1,
   "id": "82697f0f-ea13-44f3-a78f-bea1fa0168e2",
   "metadata": {},
   "outputs": [],
   "source": [
    "import matplotlib.pyplot as plt"
   ]
  },
  {
   "cell_type": "code",
   "execution_count": 3,
   "id": "fa26b287-e94e-487a-a316-43c5fa3da619",
   "metadata": {},
   "outputs": [],
   "source": [
    "import numpy as np"
   ]
  },
  {
   "cell_type": "code",
   "execution_count": 5,
   "id": "f638321c-8420-42f8-9f72-33185d50395e",
   "metadata": {},
   "outputs": [],
   "source": [
    "np.random.seed(42)"
   ]
  },
  {
   "cell_type": "code",
   "execution_count": 9,
   "id": "aaafdb1a-cab9-4f68-97ae-30ece5a6e086",
   "metadata": {},
   "outputs": [],
   "source": [
    "years = np.arange(2015,2025)"
   ]
  },
  {
   "cell_type": "code",
   "execution_count": 13,
   "id": "7a3c8d50-36c1-4de4-be97-cb3594be4bc9",
   "metadata": {},
   "outputs": [],
   "source": [
    "kohli = np.random.randint(900,1400,size=10)\n",
    "rohit = np.random.randint(800,1300,size=10)\n",
    "sehwag = np.random.randint(700,1200,size=10)"
   ]
  },
  {
   "cell_type": "code",
   "execution_count": null,
   "id": "e2aa6345-8417-40f2-865a-031688475fdf",
   "metadata": {},
   "outputs": [],
   "source": [
    "plt.plot(years,kohli,label='Virat Kohli',color='orange',linestyle='--',marker='o')\n",
    "plt.plot(years,rohit,label='Rohit Sharma',color='blue',linestyle='-.',marker='s')\n",
    "plt.plot(years,sehwag,label='Virendra Sehwag',color='green',linestyle=':',marker='*')\n",
    "\n",
    "plt.title('Hypothetical Runs Over 10 Years')\n",
    "plt.xlabel('Year')\n",
    "plt.ylabel('Runs')\n",
    "plt.legend()\n",
    "plt.grid(True)\n",
    "plt.tight_layout()\n",
    "plt.show\n",
    "plt.style.use(\"fast\")"
   ]
  }
 ],
 "metadata": {
  "kernelspec": {
   "display_name": "Python [conda env:base] *",
   "language": "python",
   "name": "conda-base-py"
  },
  "language_info": {
   "codemirror_mode": {
    "name": "ipython",
    "version": 3
   },
   "file_extension": ".py",
   "mimetype": "text/x-python",
   "name": "python",
   "nbconvert_exporter": "python",
   "pygments_lexer": "ipython3",
   "version": "3.12.7"
  }
 },
 "nbformat": 4,
 "nbformat_minor": 5
}
