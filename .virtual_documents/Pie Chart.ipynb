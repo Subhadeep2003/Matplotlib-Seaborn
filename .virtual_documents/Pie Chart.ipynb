import matplotlib.pyplot as plt
plt.style.use("ggplot")  # Choose any style you like


# Data
labels = ["Sachin", "Sehwag", "Kohli", "Yuvraj"]
runs = [18000, 8000, 12000, 9500]

plt.title("Career Runs of Indian Batsmen")
plt.pie(runs, labels=labels)
plt.show()


#Custom Colors
colors = ['#ff9999','#66b3ff','#99ff99','#ffcc99']
plt.pie(runs, labels=labels, colors=colors)
plt.show()


#Add Edges and Style Slices with wedgeprops
plt.pie(
    runs,
    labels=labels,
    colors=colors,
    wedgeprops={'edgecolor': 'black', 'linewidth': 2, 'linestyle': '--','fill':True}
)
plt.show()


#Highlight a Slice Using explode
explode = [0.1, 0.4, 0, 0]  # Only highlight Sachin's slice

plt.pie(runs, labels=labels, explode=explode, colors=colors)
plt.title("Exploded Pie Example")
plt.show()


#Add Shadows for a 3D Feel
plt.pie(
    runs,
    labels=labels,
    explode=explode,
    colors=colors,
    shadow=True  # adds a 3D-like shadow
)
plt.show()


#Start Angleto rotate the pie chart
plt.pie(
    runs,
    labels=labels,
    explode=explode,
    colors=colors,
    shadow=True,
    startangle=140
)
plt.show()


#Show Percentages with autopct
plt.pie(
    runs,
    labels=labels,
    colors=colors,
    explode=explode,
    autopct='%1.1f%%',#This is autopct to show the value
    startangle=140,
    shadow=True
)
plt.title("Career Run Share")
plt.show()





# Too many categories
languages = ['Python', 'Java', 'C++', 'JavaScript', 'C#', 'Ruby', 'Go', 'Rust', 'Swift', 'PHP']
usage = [30, 20, 10, 10, 7, 5, 4, 3, 2, 1]

plt.pie(usage, labels=languages, autopct='%1.1f%%', startangle=90)
plt.title("Programming Language Usage (Crowded Example)")
plt.show()



